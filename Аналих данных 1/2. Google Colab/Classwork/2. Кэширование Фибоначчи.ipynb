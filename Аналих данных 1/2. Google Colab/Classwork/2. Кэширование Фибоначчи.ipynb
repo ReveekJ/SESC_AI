{
 "cells": [
  {
   "cell_type": "code",
   "id": "initial_id",
   "metadata": {
    "collapsed": true,
    "ExecuteTime": {
     "end_time": "2025-09-15T05:02:20.851753Z",
     "start_time": "2025-09-15T05:02:20.848743Z"
    }
   },
   "source": [
    "cache = {1: 1, 2: 1}\n",
    "\n",
    "def cash_fibonacci(n: int):\n",
    "    def count(num: int):\n",
    "        for i in range(3, num + 1):\n",
    "            cache[i] = cache[i - 1] + cache[i - 2]\n",
    "        return cache[num]\n",
    "    return cache.get(n, count(n))\n",
    "\n"
   ],
   "outputs": [],
   "execution_count": 5
  },
  {
   "metadata": {
    "ExecuteTime": {
     "end_time": "2025-09-15T05:02:21.240680Z",
     "start_time": "2025-09-15T05:02:21.237778Z"
    }
   },
   "cell_type": "code",
   "source": [
    "print(cash_fibonacci(3))\n",
    "print(cash_fibonacci(8))\n",
    "print(cash_fibonacci(120))"
   ],
   "id": "641f47db1d33f8c8",
   "outputs": [
    {
     "name": "stdout",
     "output_type": "stream",
     "text": [
      "2\n",
      "21\n",
      "5358359254990966640871840\n"
     ]
    }
   ],
   "execution_count": 6
  },
  {
   "metadata": {},
   "cell_type": "code",
   "outputs": [],
   "execution_count": null,
   "source": "",
   "id": "a31e0ea443900ed9"
  }
 ],
 "metadata": {
  "kernelspec": {
   "display_name": "Python 3",
   "language": "python",
   "name": "python3"
  },
  "language_info": {
   "codemirror_mode": {
    "name": "ipython",
    "version": 2
   },
   "file_extension": ".py",
   "mimetype": "text/x-python",
   "name": "python",
   "nbconvert_exporter": "python",
   "pygments_lexer": "ipython2",
   "version": "2.7.6"
  }
 },
 "nbformat": 4,
 "nbformat_minor": 5
}
