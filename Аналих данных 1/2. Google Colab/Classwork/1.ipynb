{
 "cells": [
  {
   "cell_type": "markdown",
   "metadata": {},
   "source": [
    "# Основные операции с datetime в Python\n",
    "\n",
    "В этом ноутбуке мы рассмотрим основные операции с модулем `datetime` в Python."
   ],
   "id": "3005463b530af809"
  },
  {
   "cell_type": "code",
   "metadata": {
    "ExecuteTime": {
     "end_time": "2025-09-15T04:29:43.902797Z",
     "start_time": "2025-09-15T04:29:43.900073Z"
    }
   },
   "source": [
    "from datetime import datetime, timedelta\n",
    "\n",
    "# Текущая дата и время\n",
    "now = datetime.now()\n",
    "print(\"Текущая дата и время:\", now)"
   ],
   "id": "182c595c27d95563",
   "outputs": [
    {
     "name": "stdout",
     "output_type": "stream",
     "text": [
      "Текущая дата и время: 2025-09-15 09:29:43.901631\n"
     ]
    }
   ],
   "execution_count": 1
  },
  {
   "cell_type": "markdown",
   "metadata": {},
   "source": [
    "## Создание объекта datetime\n",
    "Мы можем создать объект `datetime`, указав год, месяц, день, час, минуту и секунду."
   ],
   "id": "77c26863fff37e20"
  },
  {
   "cell_type": "code",
   "metadata": {
    "ExecuteTime": {
     "end_time": "2025-09-15T04:29:43.924809Z",
     "start_time": "2025-09-15T04:29:43.923111Z"
    }
   },
   "source": [
    "custom_date = datetime(2025, 9, 15, 12, 30)\n",
    "print(\"Пользовательская дата и время:\", custom_date)"
   ],
   "id": "5e75f384d8b3a600",
   "outputs": [
    {
     "name": "stdout",
     "output_type": "stream",
     "text": [
      "Пользовательская дата и время: 2025-09-15 12:30:00\n"
     ]
    }
   ],
   "execution_count": 2
  },
  {
   "cell_type": "markdown",
   "metadata": {},
   "source": [
    "## Форматирование даты\n",
    "Мы можем форматировать дату в строку с помощью метода `strftime`."
   ],
   "id": "fa1688f39ec8b93f"
  },
  {
   "cell_type": "code",
   "metadata": {
    "ExecuteTime": {
     "end_time": "2025-09-15T04:29:43.957543Z",
     "start_time": "2025-09-15T04:29:43.955093Z"
    }
   },
   "source": [
    "formatted_date = now.strftime(\"%Y-%m-%d %H:%M:%S\")\n",
    "print(\"Отформатированная дата:\", formatted_date)"
   ],
   "id": "7f69bbc83de7f048",
   "outputs": [
    {
     "name": "stdout",
     "output_type": "stream",
     "text": [
      "Отформатированная дата: 2025-09-15 09:29:43\n"
     ]
    }
   ],
   "execution_count": 3
  },
  {
   "cell_type": "markdown",
   "metadata": {},
   "source": [
    "## Вычисления с датами\n",
    "Мы можем выполнять арифметические операции с объектами `datetime`, используя `timedelta`."
   ],
   "id": "9d8341585287121"
  },
  {
   "cell_type": "code",
   "metadata": {
    "ExecuteTime": {
     "end_time": "2025-09-15T04:29:43.986064Z",
     "start_time": "2025-09-15T04:29:43.984207Z"
    }
   },
   "source": [
    "one_week_later = now + timedelta(weeks=1)\n",
    "print(\"Дата через одну неделю:\", one_week_later)\n",
    "\n",
    "one_week_ago = now - timedelta(weeks=1)\n",
    "print(\"Дата неделю назад:\", one_week_ago)"
   ],
   "id": "3c77ed174025ff6e",
   "outputs": [
    {
     "name": "stdout",
     "output_type": "stream",
     "text": [
      "Дата через одну неделю: 2025-09-22 09:29:43.901631\n",
      "Дата неделю назад: 2025-09-08 09:29:43.901631\n"
     ]
    }
   ],
   "execution_count": 4
  },
  {
   "cell_type": "markdown",
   "metadata": {},
   "source": [
    "## Разница между датами\n",
    "Мы можем вычислить разницу между двумя датами."
   ],
   "id": "3416700fdacc91db"
  },
  {
   "cell_type": "code",
   "metadata": {
    "ExecuteTime": {
     "end_time": "2025-09-15T04:29:46.443685Z",
     "start_time": "2025-09-15T04:29:46.441388Z"
    }
   },
   "source": [
    "date1 = datetime(2025, 1, 1)\n",
    "date2 = datetime(2025, 9, 15)\n",
    "difference = date2 - date1\n",
    "print(\"Разница между датами:\", difference.days, \"дней\")"
   ],
   "id": "b5c81298f68b4887",
   "outputs": [
    {
     "name": "stdout",
     "output_type": "stream",
     "text": [
      "Разница между датами: 257 дней\n"
     ]
    }
   ],
   "execution_count": 5
  },
  {
   "metadata": {},
   "cell_type": "code",
   "outputs": [],
   "execution_count": null,
   "source": "",
   "id": "6c6a777a0669e937"
  }
 ],
 "metadata": {
  "kernelspec": {
   "display_name": "Python 3",
   "language": "python",
   "name": "python3"
  },
  "language_info": {
   "codemirror_mode": {
    "name": "ipython",
    "version": 3
   },
   "file_extension": ".py",
   "mimetype": "text/x-python",
   "name": "python",
   "nbconvert_exporter": "python",
   "pygments_lexer": "ipython3",
   "version": "3.8.5"
  }
 },
 "nbformat": 4,
 "nbformat_minor": 4
}
