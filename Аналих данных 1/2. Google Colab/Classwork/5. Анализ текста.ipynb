{
 "cells": [
  {
   "cell_type": "code",
   "execution_count": 5,
   "id": "e3d0675e-e702-4f67-b969-b6f7d8e35868",
   "metadata": {},
   "outputs": [],
   "source": [
    "from collections import Counter\n",
    "import re\n",
    "\n",
    "with open('fiction.txt', 'r', encoding='utf-8') as f:\n",
    "    text = \" \".join(f.readlines())\n",
    "\n",
    "with open('text_analysis.txt', 'w', encoding='utf-8') as f:\n",
    "    for word, count in sorted(\n",
    "        Counter(\n",
    "            word for word in re.sub(r'[^\\w\\s]', '', text.lower().replace('-', ' ')).split()\n",
    "            if word and not word.isdigit()\n",
    "        ).items(),\n",
    "        key=lambda x: (x[1], x[0]),\n",
    "        reverse=True\n",
    "    )[:20]:\n",
    "        f.write(f\"{word}\\n\")"
   ]
  }
 ],
 "metadata": {
  "kernelspec": {
   "display_name": "Python 3 (ipykernel)",
   "language": "python",
   "name": "python3"
  },
  "language_info": {
   "codemirror_mode": {
    "name": "ipython",
    "version": 3
   },
   "file_extension": ".py",
   "mimetype": "text/x-python",
   "name": "python",
   "nbconvert_exporter": "python",
   "pygments_lexer": "ipython3",
   "version": "3.12.11"
  }
 },
 "nbformat": 4,
 "nbformat_minor": 5
}
