{
 "cells": [
  {
   "cell_type": "code",
   "id": "initial_id",
   "metadata": {
    "collapsed": true,
    "ExecuteTime": {
     "end_time": "2025-09-15T05:21:03.035727Z",
     "start_time": "2025-09-15T05:21:03.031918Z"
    }
   },
   "source": [
    "from datetime import datetime\n",
    "\n",
    "\n",
    "def weekend(current_date: str, *weekend_days: int) -> int:\n",
    "    current_date = datetime.strptime(current_date, \"%Y-%d-%m\")\n",
    "\n",
    "    current_weekday = current_date.weekday()\n",
    "\n",
    "    days_until_weekend = float('inf')\n",
    "\n",
    "    for day in weekend_days:\n",
    "        days_diff = (day - current_weekday) % 7\n",
    "        if days_diff == 0:\n",
    "            days_diff = 0\n",
    "        days_until_weekend = min(days_until_weekend, days_diff)\n",
    "\n",
    "    return days_until_weekend\n"
   ],
   "outputs": [],
   "execution_count": 3
  },
  {
   "metadata": {
    "ExecuteTime": {
     "end_time": "2025-09-15T05:21:03.176541Z",
     "start_time": "2025-09-15T05:21:03.173520Z"
    }
   },
   "cell_type": "code",
   "source": "print(weekend('2024-18-01', 6, 5))",
   "id": "3fc630decf885407",
   "outputs": [
    {
     "name": "stdout",
     "output_type": "stream",
     "text": [
      "2\n"
     ]
    }
   ],
   "execution_count": 4
  },
  {
   "metadata": {},
   "cell_type": "code",
   "outputs": [],
   "execution_count": null,
   "source": "",
   "id": "5545653955f6a313"
  }
 ],
 "metadata": {
  "kernelspec": {
   "display_name": "Python 3",
   "language": "python",
   "name": "python3"
  },
  "language_info": {
   "codemirror_mode": {
    "name": "ipython",
    "version": 2
   },
   "file_extension": ".py",
   "mimetype": "text/x-python",
   "name": "python",
   "nbconvert_exporter": "python",
   "pygments_lexer": "ipython2",
   "version": "2.7.6"
  }
 },
 "nbformat": 4,
 "nbformat_minor": 5
}
