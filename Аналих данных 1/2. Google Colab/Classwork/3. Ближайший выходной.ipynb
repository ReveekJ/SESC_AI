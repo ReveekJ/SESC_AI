{
 "cells": [
  {
   "metadata": {},
   "cell_type": "code",
   "outputs": [],
   "execution_count": null,
   "source": [
    "from datetime import datetime\n",
    "\n",
    "\n",
    "def weekend(current_date, *w_days):\n",
    "    tw = datetime.strptime(current_date, \"%Y-%d-%m\").weekday()\n",
    "    m = None\n",
    "    for wd in w_days:\n",
    "        delta = (wd - tw) % 7\n",
    "        if m is None or delta < m:\n",
    "            m = delta\n",
    "    return m"
   ],
   "id": "6b62892882d14801"
  },
  {
   "metadata": {},
   "cell_type": "code",
   "outputs": [],
   "execution_count": null,
   "source": [
    "print(weekend('2024-18-01', 6, 5))\n",
    "print(weekend('2000-01-01', 3))"
   ],
   "id": "76a5434869940a85"
  }
 ],
 "metadata": {
  "kernelspec": {
   "display_name": "Python 3",
   "language": "python",
   "name": "python3"
  },
  "language_info": {
   "codemirror_mode": {
    "name": "ipython",
    "version": 2
   },
   "file_extension": ".py",
   "mimetype": "text/x-python",
   "name": "python",
   "nbconvert_exporter": "python",
   "pygments_lexer": "ipython2",
   "version": "2.7.6"
  }
 },
 "nbformat": 4,
 "nbformat_minor": 5
}
