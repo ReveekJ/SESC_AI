{
 "cells": [
  {
   "cell_type": "code",
   "execution_count": 1,
   "id": "e3d0675e-e702-4f67-b969-b6f7d8e35868",
   "metadata": {},
   "outputs": [],
   "source": [
    "from datetime import datetime\n",
    "\n",
    "\n",
    "def weekend(current_date, *w_days):\n",
    "    tw = datetime.strptime(current_date, \"%Y-%d-%m\").weekday()\n",
    "    m = None\n",
    "    for wd in w_days:\n",
    "        delta = (wd - tw) % 7\n",
    "        if m is None or delta < m:\n",
    "            m = delta\n",
    "    return m"
   ]
  },
  {
   "cell_type": "code",
   "execution_count": 3,
   "id": "4240bd5a-7c99-4bca-aafd-8aabdb6cde6f",
   "metadata": {},
   "outputs": [
    {
     "name": "stdout",
     "output_type": "stream",
     "text": [
      "2\n",
      "5\n"
     ]
    }
   ],
   "source": [
    "print(weekend('2024-18-01', 6, 5))\n",
    "print(weekend('2000-01-01', 3))"
   ]
  }
 ],
 "metadata": {
  "kernelspec": {
   "display_name": "Python 3 (ipykernel)",
   "language": "python",
   "name": "python3"
  },
  "language_info": {
   "codemirror_mode": {
    "name": "ipython",
    "version": 3
   },
   "file_extension": ".py",
   "mimetype": "text/x-python",
   "name": "python",
   "nbconvert_exporter": "python",
   "pygments_lexer": "ipython3",
   "version": "3.12.11"
  }
 },
 "nbformat": 4,
 "nbformat_minor": 5
}
