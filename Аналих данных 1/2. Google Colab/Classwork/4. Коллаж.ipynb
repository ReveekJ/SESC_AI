{
 "cells": [
  {
   "cell_type": "code",
   "execution_count": 1,
   "id": "e3d0675e-e702-4f67-b969-b6f7d8e35868",
   "metadata": {},
   "outputs": [],
   "source": [
    "from PIL import Image\n",
    "\n",
    "\n",
    "def collage(filename, *coords):\n",
    "    original = Image.open(filename)\n",
    "    squares = []\n",
    "    size = 200\n",
    "    for x, y in coords:\n",
    "        square = original.crop((x, y, x + size, y + size))\n",
    "        squares.append(square)\n",
    "    res = Image.new('RGB', (size * 2, size * 2))\n",
    "    for square, pos in zip(squares, [(0, 0), (size, 0), (0, size), (size, size)]):\n",
    "        res.paste(square, pos)\n",
    "    res.save('collage.png')"
   ]
  }
 ],
 "metadata": {
  "kernelspec": {
   "display_name": "Python 3 (ipykernel)",
   "language": "python",
   "name": "python3"
  },
  "language_info": {
   "codemirror_mode": {
    "name": "ipython",
    "version": 3
   },
   "file_extension": ".py",
   "mimetype": "text/x-python",
   "name": "python",
   "nbconvert_exporter": "python",
   "pygments_lexer": "ipython3",
   "version": "3.12.11"
  }
 },
 "nbformat": 4,
 "nbformat_minor": 5
}
