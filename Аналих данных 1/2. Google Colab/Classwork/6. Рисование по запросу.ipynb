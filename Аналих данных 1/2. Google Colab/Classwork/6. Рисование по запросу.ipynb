{
 "cells": [
  {
   "cell_type": "code",
   "execution_count": 5,
   "id": "e3d0675e-e702-4f67-b969-b6f7d8e35868",
   "metadata": {},
   "outputs": [],
   "source": [
    "import json\n",
    "from PIL import Image, ImageDraw\n",
    "\n",
    "\n",
    "with open(\"prompt.json\", \"r\", encoding=\"utf-8\") as f:\n",
    "    shapes = json.load(f)\n",
    "\n",
    "max_x = max_y = 0\n",
    "for shape in shapes:\n",
    "    pts = shape[\"points\"]\n",
    "    max_x = max(max_x, *(pts[::2]))\n",
    "    max_y = max(max_y, *(pts[1::2]))\n",
    "\n",
    "img = Image.new(\"RGB\", (max_x, max_y), \"white\")\n",
    "draw = ImageDraw.Draw(img)\n",
    "\n",
    "for shape in shapes:\n",
    "    figure = shape[\"figure\"]\n",
    "    color = shape[\"color\"]\n",
    "    pts = shape[\"points\"]\n",
    "\n",
    "    if figure == \"ellipse\":\n",
    "        draw.ellipse(pts, fill=color)\n",
    "    elif figure == \"rectangle\":\n",
    "        draw.rectangle(pts, fill=color)\n",
    "    elif figure == \"polygon\":\n",
    "        draw.polygon(pts, fill=color)\n",
    "    elif figure == \"line\":\n",
    "        draw.line(pts, fill=color, width=1)\n",
    "\n",
    "\n",
    "img.save(\"picture.png\")"
   ]
  }
 ],
 "metadata": {
  "kernelspec": {
   "display_name": "Python 3 (ipykernel)",
   "language": "python",
   "name": "python3"
  },
  "language_info": {
   "codemirror_mode": {
    "name": "ipython",
    "version": 3
   },
   "file_extension": ".py",
   "mimetype": "text/x-python",
   "name": "python",
   "nbconvert_exporter": "python",
   "pygments_lexer": "ipython3",
   "version": "3.12.11"
  }
 },
 "nbformat": 4,
 "nbformat_minor": 5
}
