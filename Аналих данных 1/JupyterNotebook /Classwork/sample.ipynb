{
 "cells": [
  {
   "metadata": {},
   "cell_type": "markdown",
   "source": "# JupyterNotebook\n",
   "id": "d8d6c955c85bbfc2"
  },
  {
   "metadata": {},
   "cell_type": "markdown",
   "source": "## Тающие слова",
   "id": "8b5afac7552969d2"
  },
  {
   "metadata": {
    "ExecuteTime": {
     "end_time": "2025-09-08T04:48:33.995491Z",
     "start_time": "2025-09-08T04:48:33.992752Z"
    }
   },
   "cell_type": "code",
   "source": [
    "words = input().split()\n",
    "\n",
    "max_length = max(len(word) for word in words)\n",
    "\n",
    "vertical_words = []\n",
    "\n",
    "for i in range(max_length):\n",
    "    current_row = []\n",
    "    for word in words:\n",
    "        if i < len(word):\n",
    "            current_row.append(word[i])\n",
    "        else:\n",
    "            current_row.append(' ')\n",
    "    vertical_words.append('\\t'.join(current_row))\n",
    "\n",
    "for row in vertical_words:\n",
    "    print(row)\n"
   ],
   "id": "fbc121e30a2defb3",
   "outputs": [
    {
     "name": "stdout",
     "output_type": "stream",
     "text": [
      "O\tu\ta\tt\tt\tl\ta\tp\tw\tw\tt\tm\ta\tp\n",
      "n\tp\t \ti\th\ti\t \tr\th\ta\to\ta\t \tr\n",
      "c\to\t \tm\te\tv\t \ti\to\tn\t \tr\t \ti\n",
      "e\tn\t \te\tr\te\t \tn\t \tt\t \tr\t \tn\n",
      " \t \t \t \te\td\t \tc\t \te\t \ty\t \tc\n",
      " \t \t \t \t \t \t \te\t \td\t \t \t \te\n",
      " \t \t \t \t \t \t \t \t \t \t \t \t \ts\n",
      " \t \t \t \t \t \t \t \t \t \t \t \t \ts\n"
     ]
    }
   ],
   "execution_count": 20
  },
  {
   "metadata": {},
   "cell_type": "markdown",
   "source": "## Смайлик в файле",
   "id": "4ed77e9e22a49124"
  },
  {
   "metadata": {
    "ExecuteTime": {
     "end_time": "2025-09-08T04:47:57.951351Z",
     "start_time": "2025-09-08T04:47:57.941151Z"
    }
   },
   "cell_type": "code",
   "source": [
    "from PIL import Image\n",
    "\n",
    "import numpy as np\n",
    "\n",
    "\n",
    "def enlarge_matrix(matrix):\n",
    "    np_matrix = np.array(matrix)\n",
    "\n",
    "    enlarged_matrix = np.repeat(np_matrix, 2, axis=0)\n",
    "    enlarged_matrix = np.repeat(enlarged_matrix, 2, axis=1)\n",
    "\n",
    "    return enlarged_matrix\n",
    "\n",
    "\n",
    "with open('smile.txt', 'r') as file:\n",
    "    matrix = []\n",
    "    for line in file.readlines():\n",
    "        matrix.append(list(map(int, line.strip())))\n",
    "\n",
    "matrix = enlarge_matrix(matrix)\n",
    "# matrix\n",
    "width, height = matrix.shape\n",
    "image = Image.new(\"RGB\", (width, height), \"white\")\n",
    "\n",
    "for y in range(height):\n",
    "    for x in range(width):\n",
    "        color = (255, 255, 255) if matrix[y][x] == 0 else (0, 0, 0)  # Белый для 1, черный для 0\n",
    "        image.putpixel((x, y), color)\n",
    "\n",
    "image.save('smile.png')"
   ],
   "id": "797de3bc7ad7eef6",
   "outputs": [
    {
     "data": {
      "text/plain": [
       "<PIL.Image.Image image mode=RGB size=30x30>"
      ],
      "image/png": "[encoded data removed]",
      "image/jpeg": "[encoded data removed]"
     },
     "metadata": {},
     "output_type": "display_data",
     "jetTransient": {
      "display_id": null
     }
    }
   ],
   "execution_count": 19
  },
  {
   "metadata": {},
   "cell_type": "code",
   "outputs": [],
   "execution_count": null,
   "source": "",
   "id": "6f4d5b39e56a432"
  }
 ],
 "metadata": {
  "kernelspec": {
   "display_name": "Python 3",
   "language": "python",
   "name": "python3"
  },
  "language_info": {
   "codemirror_mode": {
    "name": "ipython",
    "version": 2
   },
   "file_extension": ".py",
   "mimetype": "text/x-python",
   "name": "python",
   "nbconvert_exporter": "python",
   "pygments_lexer": "ipython2",
   "version": "2.7.6"
  }
 },
 "nbformat": 4,
 "nbformat_minor": 5
}
