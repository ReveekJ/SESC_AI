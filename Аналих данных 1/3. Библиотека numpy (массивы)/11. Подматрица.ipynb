{
 "cells": [
  {
   "cell_type": "code",
   "execution_count": null,
   "id": "initial_id",
   "metadata": {
    "collapsed": true
   },
   "outputs": [],
   "source": [
    "import numpy as np\n",
    "\n",
    "\n",
    "def sub_matrix(matrix, n, m):\n",
    "    if len(np.shape(matrix)) == 1:\n",
    "        return matrix[n:m]\n",
    "    elif len(np.shape(matrix)) == 2:\n",
    "        return matrix[n:m, n:m]\n",
    "    elif len(np.shape(matrix)) == 3:\n",
    "        return matrix[n:m, n:m, n:m]\n"
   ]
  }
 ],
 "metadata": {
  "kernelspec": {
   "display_name": "Python 3",
   "language": "python",
   "name": "python3"
  },
  "language_info": {
   "codemirror_mode": {
    "name": "ipython",
    "version": 2
   },
   "file_extension": ".py",
   "mimetype": "text/x-python",
   "name": "python",
   "nbconvert_exporter": "python",
   "pygments_lexer": "ipython2",
   "version": "2.7.6"
  }
 },
 "nbformat": 4,
 "nbformat_minor": 5
}
