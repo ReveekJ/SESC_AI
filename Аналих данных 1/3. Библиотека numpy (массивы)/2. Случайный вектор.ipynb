{
  "cells": [
    {
      "cell_type": "code",
      "execution_count": null,
      "id": "664f45b8",
      "metadata": {},
      "outputs": [],
      "source": [
        "import numpy as np\n",
        "\n",
        "vec_rounded = np.round(np.random.randint(1, 201, size=int(input())) / 10)\n",
        "print(vec_rounded)\n",
        "print(np.sort(vec_rounded))"
      ]
    }
  ],
  "metadata": {
    "kernelspec": {
      "display_name": "Python 3",
      "language": "python",
      "name": "python3"
    },
    "language_info": {
      "codemirror_mode": {
        "name": "ipython",
        "version": 3
      },
      "file_extension": ".py",
      "mimetype": "text/x-python",
      "name": "python",
      "nbconvert_exporter": "python",
      "pygments_lexer": "ipython3",
      "version": "3.13.7"
    }
  },
  "nbformat": 4,
  "nbformat_minor": 5
}
