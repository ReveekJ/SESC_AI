{
 "cells": [
  {
   "cell_type": "code",
   "id": "683241e2",
   "metadata": {
    "ExecuteTime": {
     "end_time": "2025-09-22T05:15:27.916354Z",
     "start_time": "2025-09-22T05:15:25.555748Z"
    }
   },
   "source": [
    "import numpy as np\n",
    "\n",
    "a = np.arange(int(input()))\n",
    "a[::3] = 0\n",
    "print(a)"
   ],
   "outputs": [
    {
     "name": "stdout",
     "output_type": "stream",
     "text": [
      "[0 1 2 0 4 5 0 7 8 0]\n"
     ]
    }
   ],
   "execution_count": 3
  },
  {
   "metadata": {},
   "cell_type": "code",
   "outputs": [],
   "execution_count": null,
   "source": "",
   "id": "4c930803c1126e36"
  }
 ],
 "metadata": {
  "kernelspec": {
   "display_name": "Python 3",
   "language": "python",
   "name": "python3"
  },
  "language_info": {
   "codemirror_mode": {
    "name": "ipython",
    "version": 3
   },
   "file_extension": ".py",
   "mimetype": "text/x-python",
   "name": "python",
   "nbconvert_exporter": "python",
   "pygments_lexer": "ipython3",
   "version": "3.13.7"
  }
 },
 "nbformat": 4,
 "nbformat_minor": 5
}
