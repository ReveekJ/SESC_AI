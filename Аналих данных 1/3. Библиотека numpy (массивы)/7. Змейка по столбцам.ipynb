{
  "cells": [
    {
      "cell_type": "code",
      "execution_count": null,
      "id": "a07d9dcf",
      "metadata": {},
      "outputs": [],
      "source": [
        "import numpy as np\n",
        "\n",
        "a, b, n, m = map(int, input().split())\n",
        "matrix = np.arange(a, b)[: n * m].reshape(m, n, order=\"F\")\n",
        "\n",
        "for j in range(n):\n",
        "    if j % 2 == 1:\n",
        "        matrix[:, j] = matrix[::-1, j]\n",
        "\n",
        "print(matrix)"
      ]
    }
  ],
  "metadata": {
    "kernelspec": {
      "display_name": "Python 3",
      "language": "python",
      "name": "python3"
    },
    "language_info": {
      "codemirror_mode": {
        "name": "ipython",
        "version": 3
      },
      "file_extension": ".py",
      "mimetype": "text/x-python",
      "name": "python",
      "nbconvert_exporter": "python",
      "pygments_lexer": "ipython3",
      "version": "3.13.7"
    }
  },
  "nbformat": 4,
  "nbformat_minor": 5
}
