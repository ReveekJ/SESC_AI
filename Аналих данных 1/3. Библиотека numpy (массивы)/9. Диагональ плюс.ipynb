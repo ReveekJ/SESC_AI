{
  "cells": [
    {
      "cell_type": "code",
      "execution_count": null,
      "id": "bbb6f19d",
      "metadata": {},
      "outputs": [],
      "source": [
        "import numpy as np\n",
        "\n",
        "\n",
        "def diagonal_plus(matrix):\n",
        "    ma = matrix.max()\n",
        "    mi = matrix.min()\n",
        "    diags = np.diag_indices_from(matrix)\n",
        "    for i in diags[0]:\n",
        "        matrix[i, i] += ma - mi\n",
        "    return matrix"
      ]
    }
  ],
  "metadata": {
    "kernelspec": {
      "display_name": "Python 3",
      "language": "python",
      "name": "python3"
    },
    "language_info": {
      "codemirror_mode": {
        "name": "ipython",
        "version": 3
      },
      "file_extension": ".py",
      "mimetype": "text/x-python",
      "name": "python",
      "nbconvert_exporter": "python",
      "pygments_lexer": "ipython3",
      "version": "3.13.7"
    }
  },
  "nbformat": 4,
  "nbformat_minor": 5
}
