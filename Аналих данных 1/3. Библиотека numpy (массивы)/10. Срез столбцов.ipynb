{
  "cells": [
    {
      "cell_type": "code",
      "execution_count": null,
      "id": "fd8395c8",
      "metadata": {},
      "outputs": [],
      "source": [
        "import numpy as np\n",
        "import sys\n",
        "\n",
        "lines = sys.stdin.read().strip().split(\"\\n\")\n",
        "n, m = map(int, lines[-1].split())\n",
        "print(np.array([list(map(float, row.split())) for row in lines[:-1]], dtype=int)[:, n:m])"
      ]
    }
  ],
  "metadata": {
    "kernelspec": {
      "display_name": "Python 3",
      "language": "python",
      "name": "python3"
    },
    "language_info": {
      "codemirror_mode": {
        "name": "ipython",
        "version": 3
      },
      "file_extension": ".py",
      "mimetype": "text/x-python",
      "name": "python",
      "nbconvert_exporter": "python",
      "pygments_lexer": "ipython3",
      "version": "3.13.7"
    }
  },
  "nbformat": 4,
  "nbformat_minor": 5
}
