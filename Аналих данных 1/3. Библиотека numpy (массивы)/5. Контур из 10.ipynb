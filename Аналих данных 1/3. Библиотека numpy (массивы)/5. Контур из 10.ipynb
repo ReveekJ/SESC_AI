{
  "cells": [
    {
      "cell_type": "code",
      "execution_count": null,
      "id": "608bad59",
      "metadata": {},
      "outputs": [],
      "source": [
        "import numpy as np\n",
        "\n",
        "n = int(input())\n",
        "mat = np.ones((n, n), dtype=float)\n",
        "\n",
        "mat[0, :] = 10\n",
        "mat[-1, :] = 10\n",
        "mat[:, 0] = 10\n",
        "mat[:, -1] = 10\n",
        "\n",
        "print(mat)"
      ]
    }
  ],
  "metadata": {
    "kernelspec": {
      "display_name": "Python 3",
      "language": "python",
      "name": "python3"
    },
    "language_info": {
      "codemirror_mode": {
        "name": "ipython",
        "version": 3
      },
      "file_extension": ".py",
      "mimetype": "text/x-python",
      "name": "python",
      "nbconvert_exporter": "python",
      "pygments_lexer": "ipython3",
      "version": "3.13.7"
    }
  },
  "nbformat": 4,
  "nbformat_minor": 5
}
