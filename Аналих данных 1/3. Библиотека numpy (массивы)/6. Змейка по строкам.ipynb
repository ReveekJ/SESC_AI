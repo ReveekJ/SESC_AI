{
  "cells": [
    {
      "cell_type": "code",
      "execution_count": null,
      "id": "aa416eaa",
      "metadata": {},
      "outputs": [],
      "source": [
        "import numpy as np\n",
        "\n",
        "a, b, n, m = map(int, input().split())\n",
        "mat = np.arange(a, b).reshape(n, m)\n",
        "for i in range(n):\n",
        "    if i % 2 == 1:\n",
        "        mat[i] = mat[i][::-1]\n",
        "\n",
        "print(mat)"
      ]
    }
  ],
  "metadata": {
    "kernelspec": {
      "display_name": "Python 3",
      "language": "python",
      "name": "python3"
    },
    "language_info": {
      "codemirror_mode": {
        "name": "ipython",
        "version": 3
      },
      "file_extension": ".py",
      "mimetype": "text/x-python",
      "name": "python",
      "nbconvert_exporter": "python",
      "pygments_lexer": "ipython3",
      "version": "3.13.7"
    }
  },
  "nbformat": 4,
  "nbformat_minor": 5
}
