{
 "cells": [
  {
   "cell_type": "code",
   "execution_count": null,
   "id": "initial_id",
   "metadata": {
    "collapsed": true
   },
   "outputs": [],
   "source": [
    "import numpy as np\n",
    "import sys\n",
    "\n",
    "data = sys.stdin.readlines()\n",
    "arr = np.asmatrix(';'.join(map(str.rstrip, data[:-1])))\n",
    "petals = np.fromiter(map(int, data[-1].rstrip().split()), dtype=float)\n",
    "if np.linalg.det(arr) == 0:\n",
    "    print(np.array([]))\n",
    "else:\n",
    "    print(np.linalg.solve(arr, petals.T))"
   ]
  }
 ],
 "metadata": {
  "kernelspec": {
   "display_name": "Python 3",
   "language": "python",
   "name": "python3"
  },
  "language_info": {
   "codemirror_mode": {
    "name": "ipython",
    "version": 2
   },
   "file_extension": ".py",
   "mimetype": "text/x-python",
   "name": "python",
   "nbconvert_exporter": "python",
   "pygments_lexer": "ipython2",
   "version": "2.7.6"
  }
 },
 "nbformat": 4,
 "nbformat_minor": 5
}
