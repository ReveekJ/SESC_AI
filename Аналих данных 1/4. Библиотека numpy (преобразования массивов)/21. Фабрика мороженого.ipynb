{
 "cells": [
  {
   "cell_type": "code",
   "execution_count": null,
   "id": "initial_id",
   "metadata": {
    "collapsed": true
   },
   "outputs": [],
   "source": [
    "import numpy as np\n",
    "import calendar\n",
    "\n",
    "\n",
    "class Icecream:\n",
    "    def __init__(self, flavours, raw, raw_cost, raw_usage, plan_produce):\n",
    "        self.flavours = flavours\n",
    "        self.raw = raw\n",
    "        self.raw_cost = raw_cost\n",
    "        self.raw_usage = raw_usage\n",
    "        self.plan_produce = plan_produce\n",
    "\n",
    "    def raw_costs(self):\n",
    "        return self.raw_usage * self.raw_cost\n",
    "\n",
    "    def sum_raw(self):\n",
    "        return np.sum(self.raw_usage, axis=0)\n",
    "\n",
    "    def sum_costs(self):\n",
    "        return np.sum(self.raw_costs(), axis=1)\n",
    "\n",
    "    def purchase_plan(self):\n",
    "        return np.dot(self.raw_usage.T, self.plan_produce)\n",
    "\n",
    "    def year_costs(self):\n",
    "        return (self.sum_costs() * self.plan_produce.T).T\n",
    "\n",
    "    def month_costs(self, month):\n",
    "        return self.year_costs()[:, list(calendar.month_name).index(month) - 1]\n",
    "\n",
    "    def goods_costs(self, good):\n",
    "        return self.year_costs()[np.where(self.flavours == good)][0]\n",
    "\n",
    "    def min_month_cost(self):\n",
    "        return np.min(self.year_costs(), axis=0)\n",
    "\n",
    "    def max_month_cost(self):\n",
    "        return np.max(self.year_costs(), axis=0)\n",
    "\n",
    "    def mean_raw(self):\n",
    "        return np.mean(self.raw_usage, axis=0)\n",
    "\n",
    "    def med_cost(self):\n",
    "        return np.median(self.raw_costs(), axis=0)\n",
    "\n",
    "    def useful_raw(self):\n",
    "        return self.raw[np.argmax(self.sum_raw()) if len(np.shape(np.argmax(self.sum_raw()))) > 1 else np.expand_dims(\n",
    "            np.argmax(self.sum_raw()), axis=0)]\n"
   ]
  }
 ],
 "metadata": {
  "kernelspec": {
   "display_name": "Python 3",
   "language": "python",
   "name": "python3"
  },
  "language_info": {
   "codemirror_mode": {
    "name": "ipython",
    "version": 2
   },
   "file_extension": ".py",
   "mimetype": "text/x-python",
   "name": "python",
   "nbconvert_exporter": "python",
   "pygments_lexer": "ipython2",
   "version": "2.7.6"
  }
 },
 "nbformat": 4,
 "nbformat_minor": 5
}
