{
 "cells": [
  {
   "cell_type": "code",
   "id": "initial_id",
   "metadata": {
    "collapsed": true,
    "ExecuteTime": {
     "end_time": "2025-10-13T05:14:00.646422Z",
     "start_time": "2025-10-13T05:14:00.642113Z"
    }
   },
   "source": [
    "import numpy as np\n",
    "\n",
    "\n",
    "def box(matrix, num):\n",
    "    rows, cols = matrix.shape\n",
    "    a = np.linspace(num, num, (rows + 2) * (cols + 2)).reshape(rows + 2, cols + 2).astype(np.uint)\n",
    "    a[1:rows + 1, 1:cols + 1] = matrix\n",
    "    return a\n"
   ],
   "outputs": [],
   "execution_count": 24
  },
  {
   "metadata": {
    "ExecuteTime": {
     "end_time": "2025-10-13T05:14:01.153183Z",
     "start_time": "2025-10-13T05:14:01.145259Z"
    }
   },
   "cell_type": "code",
   "source": [
    "matrix = np.array([[1, 2, 3, 4], [5, 6, 7, 8]])\n",
    "print(box(matrix, 0))"
   ],
   "id": "190e79343ffa19f7",
   "outputs": [
    {
     "name": "stdout",
     "output_type": "stream",
     "text": [
      "[[0 0 0 0 0 0]\n",
      " [0 1 2 3 4 0]\n",
      " [0 5 6 7 8 0]\n",
      " [0 0 0 0 0 0]]\n"
     ]
    }
   ],
   "execution_count": 25
  },
  {
   "metadata": {},
   "cell_type": "code",
   "outputs": [],
   "execution_count": null,
   "source": "",
   "id": "699663bd10b833f2"
  }
 ],
 "metadata": {
  "kernelspec": {
   "display_name": "Python 3",
   "language": "python",
   "name": "python3"
  },
  "language_info": {
   "codemirror_mode": {
    "name": "ipython",
    "version": 2
   },
   "file_extension": ".py",
   "mimetype": "text/x-python",
   "name": "python",
   "nbconvert_exporter": "python",
   "pygments_lexer": "ipython2",
   "version": "2.7.6"
  }
 },
 "nbformat": 4,
 "nbformat_minor": 5
}
