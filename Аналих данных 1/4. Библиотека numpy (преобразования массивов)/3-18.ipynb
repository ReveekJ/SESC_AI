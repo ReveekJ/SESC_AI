{
 "cells": [
  {
   "cell_type": "code",
   "execution_count": 1,
   "id": "41aaca45-9c89-4d09-8fae-75e0968ec854",
   "metadata": {},
   "outputs": [],
   "source": [
    "import numpy as np\n",
    "\n",
    "\n",
    "def null_adding(matrix, pos, place='row'):\n",
    "    rows, cols = matrix.shape\n",
    "    if place == 'row':\n",
    "        new_row = np.zeros(cols)\n",
    "        return np.insert(matrix, pos, new_row, axis=0)\n",
    "    else:\n",
    "        new_col = np.zeros((rows, len(pos)))\n",
    "        return np.insert(matrix, pos, new_col, axis=1)"
   ]
  },
  {
   "cell_type": "code",
   "execution_count": 2,
   "id": "252c2fb5-b4b8-44c5-a194-fff79b6e9304",
   "metadata": {},
   "outputs": [],
   "source": [
    "import numpy as np\n",
    "\n",
    "\n",
    "def binary(n):\n",
    "    if n == 0:\n",
    "        return np.array([], dtype=np.int32).reshape(0, 0)\n",
    "    total_numbers = 2 ** n\n",
    "    if n <= 30:\n",
    "        dtype = np.int32\n",
    "    else:\n",
    "        dtype = np.int64\n",
    "    numbers = np.arange(0, total_numbers, dtype=dtype).reshape(-1, 1)\n",
    "    shifts = np.arange(n - 1, -1, -1)\n",
    "    return (numbers >> shifts) & 1"
   ]
  },
  {
   "cell_type": "code",
   "execution_count": 3,
   "id": "cea791fa-4380-457e-930e-a0c1ee0bae98",
   "metadata": {},
   "outputs": [],
   "source": [
    "import numpy as np\n",
    "\n",
    "\n",
    "def remove_triples(matrix):\n",
    "    mask = ~np.any(matrix % 3 == 0, axis=1)\n",
    "    return matrix[mask]"
   ]
  },
  {
   "cell_type": "code",
   "execution_count": 4,
   "id": "f3a2fc39-f9ef-4e6d-af76-4913e86530e6",
   "metadata": {},
   "outputs": [],
   "source": [
    "import numpy as np\n",
    "\n",
    "\n",
    "def alter_sort(matrix, axis=0):\n",
    "    result = matrix.copy()\n",
    "    if axis == 0:\n",
    "        for i in range(result.shape[0]):\n",
    "            if i % 2 == 0:\n",
    "                result[i] = np.sort(result[i])\n",
    "            else:\n",
    "                result[i] = np.sort(result[i])[::-1]\n",
    "    else:\n",
    "        for j in range(result.shape[1]):\n",
    "            if j % 2 == 0:\n",
    "                result[:, j] = np.sort(result[:, j])\n",
    "            else:\n",
    "                result[:, j] = np.sort(result[:, j])[::-1]\n",
    "    return result"
   ]
  },
  {
   "cell_type": "code",
   "execution_count": 5,
   "id": "f33495bb-92cf-4298-b8c9-f370cc187b68",
   "metadata": {},
   "outputs": [],
   "source": [
    "import numpy as np\n",
    "\n",
    "\n",
    "def oscillations(amplitudes, omega, t):\n",
    "    x0, y0 = amplitudes\n",
    "    time_points = np.arange(0, t, 0.1)\n",
    "    x = x0 * np.cos(omega * time_points)\n",
    "    y = y0 * np.sin(omega * time_points)\n",
    "    return np.column_stack((x, y))"
   ]
  },
  {
   "cell_type": "code",
   "execution_count": 6,
   "id": "ec4ce008-3375-49da-935a-0ea75acd85a2",
   "metadata": {},
   "outputs": [],
   "source": [
    "import numpy as np\n",
    "\n",
    "def for_three(matrix):\n",
    "    rows, cols = matrix.shape\n",
    "    if rows % 3 == 0:\n",
    "        return np.split(matrix, 3, axis=0)\n",
    "    else:\n",
    "        return np.split(matrix, 3, axis=1)"
   ]
  },
  {
   "cell_type": "code",
   "execution_count": 7,
   "id": "83bb01bb-b385-483b-9828-4744222065cc",
   "metadata": {},
   "outputs": [],
   "source": [
    "import numpy as np\n",
    "\n",
    "\n",
    "def only_largest(matrix1, matrix2):\n",
    "    return np.maximum(matrix1, matrix2)"
   ]
  },
  {
   "cell_type": "code",
   "execution_count": 8,
   "id": "4695ff1f-724b-496a-9bb5-1a256f96dcce",
   "metadata": {},
   "outputs": [],
   "source": [
    "import numpy as np\n",
    "\n",
    "\n",
    "def normalize(matrix):\n",
    "    result = matrix.copy()\n",
    "    row_means = np.mean(result, axis=1, keepdims=True)\n",
    "    result -= row_means\n",
    "    return result"
   ]
  },
  {
   "cell_type": "code",
   "execution_count": 9,
   "id": "5f29bb3f-b6b4-47f2-b0c1-2495bd693b9b",
   "metadata": {},
   "outputs": [],
   "source": [
    "import numpy as np\n",
    "\n",
    "\n",
    "def normalize(matrix):\n",
    "    result = matrix.copy()\n",
    "    row_means = np.mean(result, axis=0, keepdims=True)\n",
    "    result -= row_means\n",
    "    return result"
   ]
  },
  {
   "cell_type": "code",
   "execution_count": 10,
   "id": "27076986-8351-461d-be3a-993daf221245",
   "metadata": {},
   "outputs": [],
   "source": [
    "import numpy as np\n",
    "\n",
    "\n",
    "def inverse(matrix, matrix1):\n",
    "    n = matrix.shape[0]\n",
    "    identity = np.eye(n, dtype=int)\n",
    "    prod1 = np.round(matrix @ matrix1).astype(int)\n",
    "    prod2 = np.round(matrix1 @ matrix).astype(int)\n",
    "    return np.array_equal(prod1, identity) or np.array_equal(prod2, identity)"
   ]
  },
  {
   "cell_type": "code",
   "execution_count": 11,
   "id": "fa1214ba-d48e-447a-87e2-d6d8a90e2b23",
   "metadata": {},
   "outputs": [],
   "source": [
    "import numpy as np\n",
    "\n",
    "def manhattan(rows, cols, vector):\n",
    "    r0, c0 = vector\n",
    "    row_indices = np.arange(rows).reshape(-1, 1)\n",
    "    col_indices = np.arange(cols)\n",
    "    distances = np.abs(row_indices - r0) + np.abs(col_indices - c0)\n",
    "    return distances.astype(float)"
   ]
  },
  {
   "cell_type": "code",
   "execution_count": 12,
   "id": "23f4ad03-45ea-4194-9c8b-acc258061541",
   "metadata": {},
   "outputs": [],
   "source": [
    "import numpy as np\n",
    "\n",
    "\n",
    "def neumann(matrix, point, r):\n",
    "    rows, cols = matrix.shape\n",
    "    x, y = point\n",
    "    i_min = max(0, x - r)\n",
    "    i_max = min(rows, x + r + 1)\n",
    "    j_min = max(0, y - r)\n",
    "    j_max = min(cols, y + r + 1)\n",
    "    submatrix = matrix[i_min:i_max, j_min:j_max]\n",
    "    i_indices = np.arange(i_min, i_max)\n",
    "    j_indices = np.arange(j_min, j_max)\n",
    "    I, J = np.meshgrid(i_indices, j_indices, indexing='ij')\n",
    "    distances = np.abs(I - x) + np.abs(J - y)\n",
    "    mask = distances <= r\n",
    "    return np.sum(submatrix[mask])"
   ]
  },
  {
   "cell_type": "code",
   "execution_count": 13,
   "id": "c127a307-1914-4888-9ba9-dff90a97238d",
   "metadata": {},
   "outputs": [],
   "source": [
    "import numpy as np\n",
    "\n",
    "\n",
    "def distance(file1, file2):\n",
    "    v1 = np.load(file1)\n",
    "    v2 = np.load(file2)\n",
    "    return np.linalg.norm(v1 - v2)"
   ]
  },
  {
   "cell_type": "code",
   "execution_count": 14,
   "id": "8a1b0dab-5d92-4539-b76e-270987acba49",
   "metadata": {},
   "outputs": [],
   "source": [
    "import numpy as np\n",
    "\n",
    "\n",
    "def strings(v1, v2):\n",
    "    dot_product = np.dot(v1, v2)\n",
    "    norm_v1 = np.linalg.norm(v1)\n",
    "    norm_v2 = np.linalg.norm(v2)\n",
    "    cos_angle = dot_product / (norm_v1 * norm_v2)\n",
    "    cos_angle = np.clip(cos_angle, -1.0, 1.0)\n",
    "    angle_rad = np.arccos(cos_angle)\n",
    "    angle_deg = np.degrees(angle_rad)\n",
    "    return angle_deg"
   ]
  },
  {
   "cell_type": "code",
   "execution_count": 15,
   "id": "df438967-f95d-44ef-8488-60620d4bcfe3",
   "metadata": {},
   "outputs": [],
   "source": [
    "import numpy as np\n",
    "\n",
    "\n",
    "def paradox(calculated_speeds, measured_speeds):\n",
    "    r = np.arange(1, len(calculated_speeds) + 1)\n",
    "    mu_measured = measured_speeds ** 2 * r / 2.0\n",
    "    mu_calculated = calculated_speeds ** 2 * r / 2.0 \n",
    "    return mu_measured - mu_calculated"
   ]
  },
  {
   "cell_type": "code",
   "execution_count": 18,
   "id": "f7178579-48bc-4d65-a7e0-aa328736b8c1",
   "metadata": {},
   "outputs": [
    {
     "name": "stdin",
     "output_type": "stream",
     "text": [
      " 1 2 3 4 5 6\n",
      " 1 2 4 3 5 6\n",
      " 1 4 2 3 5 6\n",
      " 6 5 4 3 2 1\n",
      " 4 6 1 2 5 3\n"
     ]
    },
    {
     "name": "stdout",
     "output_type": "stream",
     "text": [
      "[-1.  0.  0.  0.  1.]\n"
     ]
    }
   ],
   "source": [
    "import numpy as np\n",
    "\n",
    "\n",
    "data = np.array([list(map(int, input().split())) for _ in range(5)])\n",
    "A = data[:, :5]\n",
    "B = data[:, 5]\n",
    "X = np.linalg.solve(A, B)\n",
    "X = np.round(X).astype(float)\n",
    "print(X)"
   ]
  },
  {
   "cell_type": "code",
   "execution_count": null,
   "id": "bbf7d2ac-09c9-43ff-9daf-12b773a28bb4",
   "metadata": {},
   "outputs": [],
   "source": []
  }
 ],
 "metadata": {
  "kernelspec": {
   "display_name": "Python 3 (ipykernel)",
   "language": "python",
   "name": "python3"
  },
  "language_info": {
   "codemirror_mode": {
    "name": "ipython",
    "version": 3
   },
   "file_extension": ".py",
   "mimetype": "text/x-python",
   "name": "python",
   "nbconvert_exporter": "python",
   "pygments_lexer": "ipython3",
   "version": "3.13.7"
  }
 },
 "nbformat": 4,
 "nbformat_minor": 5
}
