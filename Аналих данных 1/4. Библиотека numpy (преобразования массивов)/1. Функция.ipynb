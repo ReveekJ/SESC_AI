{
 "cells": [
  {
   "cell_type": "code",
   "id": "initial_id",
   "metadata": {
    "collapsed": true,
    "ExecuteTime": {
     "end_time": "2025-10-13T05:04:15.655345Z",
     "start_time": "2025-10-13T05:04:15.646309Z"
    }
   },
   "source": [
    "import numpy as np\n",
    "\n",
    "\n",
    "def solve(x):\n",
    "    x = np.asarray(x)\n",
    "    return np.sin(x/5) * np.exp(x/10) + 5 * np.exp(-x//2)\n"
   ],
   "outputs": [],
   "execution_count": 3
  },
  {
   "metadata": {
    "ExecuteTime": {
     "end_time": "2025-10-13T05:04:15.798962Z",
     "start_time": "2025-10-13T05:04:15.795384Z"
    }
   },
   "cell_type": "code",
   "source": [
    "x = np.linspace(1, 15, 6).reshape((2, 3))\n",
    "print(solve(x))"
   ],
   "id": "3b8727f8bd4ec44e",
   "outputs": [
    {
     "name": "stdout",
     "output_type": "stream",
     "text": [
      "[[2.05896077 1.68407563 1.96584074]\n",
      " [2.47226709 2.19076892 0.63413331]]\n"
     ]
    }
   ],
   "execution_count": 4
  },
  {
   "metadata": {},
   "cell_type": "code",
   "outputs": [],
   "execution_count": null,
   "source": "",
   "id": "ab38343276e45a4e"
  }
 ],
 "metadata": {
  "kernelspec": {
   "display_name": "Python 3",
   "language": "python",
   "name": "python3"
  },
  "language_info": {
   "codemirror_mode": {
    "name": "ipython",
    "version": 2
   },
   "file_extension": ".py",
   "mimetype": "text/x-python",
   "name": "python",
   "nbconvert_exporter": "python",
   "pygments_lexer": "ipython2",
   "version": "2.7.6"
  }
 },
 "nbformat": 4,
 "nbformat_minor": 5
}
