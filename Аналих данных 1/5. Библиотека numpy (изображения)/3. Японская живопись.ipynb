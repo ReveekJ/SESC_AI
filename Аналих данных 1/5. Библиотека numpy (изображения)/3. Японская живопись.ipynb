{
 "cells": [
  {
   "cell_type": "code",
   "execution_count": null,
   "id": "initial_id",
   "metadata": {
    "collapsed": true
   },
   "outputs": [],
   "source": [
    "import numpy as np\n",
    "from PIL import Image\n",
    "\n",
    "pic_name = input()\n",
    "text_name = input()\n",
    "\n",
    "pic = np.array(Image.open(pic_name))\n",
    "text = np.array(Image.open(text_name))\n",
    "\n",
    "h, w, _ = pic.shape\n",
    "y, x, _ = text.shape\n",
    "temp_im = pic\n",
    "temp_ic = text\n",
    "bckg1 = temp_im[0, w - 1]\n",
    "bckg2 = temp_ic[0, 0]\n",
    "temp = np.where(temp_ic[:, :, :] == bckg2, bckg1, temp_ic[:, :, :])\n",
    "temp_im[:y, w - x:, ...] = temp\n",
    "\n",
    "Image.fromarray(temp_im.astype(np.uint8)).save(f'ready.png')"
   ]
  }
 ],
 "metadata": {
  "kernelspec": {
   "display_name": "Python 3",
   "language": "python",
   "name": "python3"
  },
  "language_info": {
   "codemirror_mode": {
    "name": "ipython",
    "version": 2
   },
   "file_extension": ".py",
   "mimetype": "text/x-python",
   "name": "python",
   "nbconvert_exporter": "python",
   "pygments_lexer": "ipython2",
   "version": "2.7.6"
  }
 },
 "nbformat": 4,
 "nbformat_minor": 5
}
